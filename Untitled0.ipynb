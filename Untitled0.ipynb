{
 "metadata": {
  "name": "Untitled0"
 },
 "nbformat": 3,
 "worksheets": [
  {
   "cells": [
    {
     "cell_type": "code",
     "collapsed": true,
     "input": [
      "from root_numpy import *"
     ],
     "language": "python",
     "outputs": [],
     "prompt_number": 1
    },
    {
     "cell_type": "code",
     "collapsed": true,
     "input": [
      "a = root2rec('test/sprVars_OffPeak_Run2-nn7dt.root','tr')"
     ],
     "language": "python",
     "outputs": [],
     "prompt_number": 2
    },
    {
     "cell_type": "code",
     "collapsed": false,
     "input": [
      "b = root2array('test/sprVars_OffPeak_Run2-nn7dt.root','tr')"
     ],
     "language": "python",
     "outputs": [],
     "prompt_number": 5
    },
    {
     "cell_type": "code",
     "collapsed": false,
     "input": [
      "b.dtype"
     ],
     "language": "python",
     "outputs": [
      {
       "output_type": "pyout",
       "prompt_number": 7,
       "text": [
        "dtype([(&apos;p1cm&apos;, &apos;&lt;f4&apos;), (&apos;p2cm&apos;, &apos;&lt;f4&apos;), (&apos;deltaT1&apos;, &apos;&lt;f4&apos;), (&apos;emiss&apos;, &apos;&lt;f4&apos;), (&apos;thrust&apos;, &apos;&lt;f4&apos;), (&apos;sph&apos;, &apos;&lt;f4&apos;), (&apos;costh12&apos;, &apos;&lt;f4&apos;), (&apos;evttype&apos;, &apos;&lt;i4&apos;), (&apos;ee&apos;, &apos;|i1&apos;), (&apos;mm&apos;, &apos;|i1&apos;), (&apos;em&apos;, &apos;|i1&apos;), (&apos;me&apos;, &apos;|i1&apos;), (&apos;samesign&apos;, &apos;|i1&apos;), (&apos;nn7dt&apos;, &apos;&lt;f4&apos;)])"
       ]
      }
     ],
     "prompt_number": 7
    },
    {
     "cell_type": "code",
     "collapsed": true,
     "input": [
      "a = array([False,True])"
     ],
     "language": "python",
     "outputs": [],
     "prompt_number": 10
    },
    {
     "cell_type": "code",
     "collapsed": false,
     "input": [
      "a.dtype"
     ],
     "language": "python",
     "outputs": [
      {
       "output_type": "pyout",
       "prompt_number": 11,
       "text": [
        "dtype(&apos;bool&apos;)"
       ]
      }
     ],
     "prompt_number": 11
    },
    {
     "cell_type": "code",
     "collapsed": true,
     "input": [],
     "language": "python",
     "outputs": [],
     "prompt_number": "&nbsp;"
    }
   ]
  }
 ]
}