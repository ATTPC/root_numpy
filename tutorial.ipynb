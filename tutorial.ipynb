{
 "metadata": {
  "name": "tutorial"
 }, 
 "nbformat": 2, 
 "worksheets": [
  {
   "cells": [
    {
     "cell_type": "code", 
     "collapsed": true, 
     "input": [
      "import root_numpy", 
      "# there is only one method read(fnames,treename,branches=None)", 
      "# you can specify branch to extract as list of string if memory usage is an issue"
     ], 
     "language": "python", 
     "outputs": [], 
     "prompt_number": 1
    }, 
    {
     "cell_type": "code", 
     "collapsed": false, 
     "input": [
      "a=root_numpy.read('test/test.root','tree')", 
      "#this tree has two column i and integer and f as float", 
      "print a #you will see that a is a structure array"
     ], 
     "language": "python", 
     "outputs": [
      {
       "output_type": "stream", 
       "stream": "stdout", 
       "text": [
        "[(0, 0.0) (2, 1.2000000476837158) (4, 2.4000000953674316)", 
        " (6, 3.5999999046325684) (8, 4.800000190734863) (10, 6.0)", 
        " (12, 7.199999809265137) (14, 8.399999618530273) (16, 9.600000381469727)", 
        " (18, 10.800000190734863)]"
       ]
      }
     ], 
     "prompt_number": 2
    }, 
    {
     "cell_type": "code", 
     "collapsed": false, 
     "input": [
      "#access whole column", 
      "print a['i']", 
      "print a['f']"
     ], 
     "language": "python", 
     "outputs": [
      {
       "output_type": "stream", 
       "stream": "stdout", 
       "text": [
        "[ 0  2  4  6  8 10 12 14 16 18]", 
        "[  0.           1.20000005   2.4000001    3.5999999    4.80000019   6.", 
        "   7.19999981   8.39999962   9.60000038  10.80000019]"
       ]
      }
     ], 
     "prompt_number": 3
    }, 
    {
     "cell_type": "code", 
     "collapsed": false, 
     "input": [
      "#plot something", 
      "plot(a['i'],a['f'])"
     ], 
     "language": "python", 
     "outputs": [
      {
       "output_type": "pyout", 
       "prompt_number": 4, 
       "text": [
        "[&lt;matplotlib.lines.Line2D at 0x103b35f10&gt;]"
       ]
      }, 
      {
       "output_type": "display_data", 
       "png": "[encoded data removed]"
      }
     ], 
     "prompt_number": 4
    }, 
    {
     "cell_type": "code", 
     "collapsed": false, 
     "input": [
      "#some numpy magic", 
      "plot(a['i']**2,a['f'])"
     ], 
     "language": "python", 
     "outputs": [
      {
       "output_type": "pyout", 
       "prompt_number": 5, 
       "text": [
        "[&lt;matplotlib.lines.Line2D at 0x1062a4b10&gt;]"
       ]
      }, 
      {
       "output_type": "display_data", 
       "png": "[encoded data removed]"
      }
     ], 
     "prompt_number": 5
    }, 
    {
     "cell_type": "code", 
     "collapsed": false, 
     "input": [
      "#access 0th record", 
      "print a[0]", 
      "#and the first record", 
      "print a[1]"
     ], 
     "language": "python", 
     "outputs": [
      {
       "output_type": "stream", 
       "stream": "stdout", 
       "text": [
        "(0, 0.0)", 
        "(2, 1.2000000476837158)"
       ]
      }
     ], 
     "prompt_number": 6
    }, 
    {
     "cell_type": "code", 
     "collapsed": false, 
     "input": [
      "#access 1st record column i", 
      "print a[1]['i']"
     ], 
     "language": "python", 
     "outputs": [
      {
       "output_type": "stream", 
       "stream": "stdout", 
       "text": [
        "2"
       ]
      }
     ], 
     "prompt_number": 7
    }, 
    {
     "cell_type": "code", 
     "collapsed": false, 
     "input": [
      "#and this may confuse you but", 
      "print a['i'][1]", 
      "#there is a tiny different here a[some string] will return numpy array of that column which you can index it again", 
      "#while a[integer] will return the that structure which you can index it again"
     ], 
     "language": "python", 
     "outputs": [
      {
       "output_type": "stream", 
       "stream": "stdout", 
       "text": [
        "2"
       ]
      }
     ], 
     "prompt_number": 8
    }, 
    {
     "cell_type": "code", 
     "collapsed": false, 
     "input": [
      "#this one works too", 
      "print a[1][0]"
     ], 
     "language": "python", 
     "outputs": [
      {
       "output_type": "stream", 
       "stream": "stdout", 
       "text": [
        "2"
       ]
      }
     ], 
     "prompt_number": 9
    }, 
    {
     "cell_type": "code", 
     "collapsed": false, 
     "input": [
      "#if you don't like typing ['somecol']", 
      "ar = a.view(np.recarray)", 
      "print ar.i", 
      "print ar.f"
     ], 
     "language": "python", 
     "outputs": [
      {
       "output_type": "stream", 
       "stream": "stdout", 
       "text": [
        "[ 0  2  4  6  8 10 12 14 16 18]", 
        "[  0.           1.20000005   2.4000001    3.5999999    4.80000019   6.", 
        "   7.19999981   8.39999962   9.60000038  10.80000019]"
       ]
      }
     ], 
     "prompt_number": 10
    }, 
    {
     "cell_type": "code", 
     "collapsed": true, 
     "input": [], 
     "language": "python", 
     "outputs": [], 
     "prompt_number": "&nbsp;"
    }
   ]
  }
 ]
}