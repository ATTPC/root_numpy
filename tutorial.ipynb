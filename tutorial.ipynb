{
 "metadata": {
  "name": "tutorial"
 }, 
 "nbformat": 2, 
 "worksheets": [
  {
   "cells": [
    {
     "cell_type": "code", 
     "collapsed": true, 
     "input": [
      "from root_numpy import root2rec, root2array"
     ], 
     "language": "python", 
     "outputs": [], 
     "prompt_number": 1
    }, 
    {
     "cell_type": "code", 
     "collapsed": false, 
     "input": [
      "#root2rec", 
      "ar = root2rec('test/test.root','tree')", 
      "print ar.i", 
      "print ar.f", 
      "#ipython autocomplete columnname patch is available with this numpy patch", 
      "#https://github.com/piti118/numpy/commit/a996292238ab98dcf53f2d48476d637eab9f1a72", 
      "ar.i[0] #ar[0].i won't work", 
      "ar[0][0]"
     ], 
     "language": "python", 
     "outputs": [
      {
       "output_type": "stream", 
       "stream": "stdout", 
       "text": [
        "[ 0  2  4  6  8 10 12 14 16 18]", 
        "[  0.           1.20000005   2.4000001    3.5999999    4.80000019   6.", 
        "   7.19999981   8.39999962   9.60000038  10.80000019]"
       ]
      }, 
      {
       "output_type": "pyout", 
       "prompt_number": 2, 
       "text": [
        "0"
       ]
      }
     ], 
     "prompt_number": 2
    }, 
    {
     "cell_type": "code", 
     "collapsed": false, 
     "input": [
      "ar.f[ar.i>5]"
     ], 
     "language": "python", 
     "outputs": [
      {
       "output_type": "pyout", 
       "prompt_number": 3, 
       "text": [
        "array([  3.5999999 ,   4.80000019,   6.        ,   7.19999981,", 
        "         8.39999962,   9.60000038,  10.80000019], dtype=float32)"
       ]
      }
     ], 
     "prompt_number": 3
    }, 
    {
     "cell_type": "code", 
     "collapsed": false, 
     "input": [
      "#root2array is available if you don't like recarray", 
      "a=root2array('test/test.root','tree')", 
      "#this tree has two column i and integer and f as float", 
      "a #you will see that a is a structure array"
     ], 
     "language": "python", 
     "outputs": [
      {
       "output_type": "pyout", 
       "prompt_number": 4, 
       "text": [
        "array([(0, 0.0), (2, 1.2000000476837158), (4, 2.4000000953674316),", 
        "       (6, 3.5999999046325684), (8, 4.800000190734863), (10, 6.0),", 
        "       (12, 7.199999809265137), (14, 8.399999618530273),", 
        "       (16, 9.600000381469727), (18, 10.800000190734863)], ", 
        "      dtype=[(&apos;i&apos;, &apos;&lt;i4&apos;), (&apos;f&apos;, &apos;&lt;f4&apos;)])"
       ]
      }
     ], 
     "prompt_number": 4
    }, 
    {
     "cell_type": "code", 
     "collapsed": false, 
     "input": [
      "#access whole column", 
      "print a['i']", 
      "print a['f']"
     ], 
     "language": "python", 
     "outputs": [
      {
       "output_type": "stream", 
       "stream": "stdout", 
       "text": [
        "[ 0  2  4  6  8 10 12 14 16 18]", 
        "[  0.           1.20000005   2.4000001    3.5999999    4.80000019   6.", 
        "   7.19999981   8.39999962   9.60000038  10.80000019]"
       ]
      }
     ], 
     "prompt_number": 5
    }, 
    {
     "cell_type": "code", 
     "collapsed": false, 
     "input": [
      "#access 0th record", 
      "print a[0]", 
      "#and the first record", 
      "print a[1]"
     ], 
     "language": "python", 
     "outputs": [
      {
       "output_type": "stream", 
       "stream": "stdout", 
       "text": [
        "(0, 0.0)", 
        "(2, 1.2000000476837158)"
       ]
      }
     ], 
     "prompt_number": 6
    }, 
    {
     "cell_type": "code", 
     "collapsed": false, 
     "input": [
      "#access 1st record column i", 
      "print a[1]['i']", 
      "#and this may confuse you but", 
      "print a['i'][1]", 
      "#there is a tiny different here a[some string] will return numpy array of that ", 
      "#column which you can index it again while a[integer] will return the that structure ", 
      "#which you can index it again", 
      "print a[1][0] #this one works too"
     ], 
     "language": "python", 
     "outputs": [
      {
       "output_type": "stream", 
       "stream": "stdout", 
       "text": [
        "2", 
        "2", 
        "2"
       ]
      }
     ], 
     "prompt_number": 7
    }
   ]
  }
 ]
}